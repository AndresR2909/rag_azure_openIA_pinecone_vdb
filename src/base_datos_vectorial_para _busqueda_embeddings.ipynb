{
 "cells": [
  {
   "cell_type": "markdown",
   "id": "cb1537e6",
   "metadata": {},
   "source": [
    "# Preparación y representación vectorial de documentos/textos en embeddings, indexación y almacenamiento en una base de datos vectorial\n",
    "\n",
    "referencia:\n",
    "\n",
    "[1] https://github.com/openai/openai-cookbook/blob/main/examples/vector_databases/pinecone/README.md\n",
    "\n",
    "[2]https://github.com/pinecone-io/examples/blob/master/learn/generation/openai/gpt-4-langchain-docs.ipynb\n",
    "\n",
    "\n",
    "[3] https://docs.pinecone.io/docs/quickstart\n",
    "\n",
    "\n",
    "[4]https://github.com/Azure-Samples/Azure-OpenAI-Docs-Samples/blob/main/Samples/Tutorials/Embeddings/embedding_billsum.ipynb\n",
    "\n",
    "Este notebook toma los ejemplos de la referencia 2 y 4 y los aplica al dataset de tweets de cambio climatico:\n",
    "\n",
    "* Leer conjunto de datos y preprocesarlo.\n",
    "* Limpiar el texto y/o documento y crear embeddings (representacion vectorial) con modelo seleccionado: openIA ada-002 \n",
    "* Realizar una busqueda de texto a traves de una seleccion de vectores similares en el dataframe.\n",
    "* Crear el indice y agregar los embeddings en el indice creado de la base de datos vectorial seleccionada: pinecone.\n",
    "\n",
    "\n",
    "### Base de datos vectorial seleccionada pinecone\n",
    "\n",
    "- **configuracion**: Instalar, Importar librerias y cargar variables de ambiente para conexion a base de datos vectorial pinecone y a modelo de embeddings openIA. [2][3][4]\n",
    "- **leer dataset y crear embdedings**: leer el dataset, aumentar el texto y crear embeddings con modelo de OpenIA.\n",
    "- **Base de datos vectorial: Pinecone**\n",
    "    - Configurar y crear el cliente para conexion con VDB Pinecone. \n",
    "    - Crear indice\n",
    "    - Cargar vectores y metadata en indice\n"
   ]
  },
  {
   "cell_type": "code",
   "execution_count": null,
   "id": "41eeaf08",
   "metadata": {},
   "outputs": [],
   "source": [
    "#pip install openai python-dotenv pinecone-client numpy pandas tiktoken"
   ]
  },
  {
   "cell_type": "markdown",
   "id": "e2b59250",
   "metadata": {},
   "source": [
    "## Importar librerias"
   ]
  },
  {
   "cell_type": "code",
   "execution_count": 1,
   "id": "0455ca7d",
   "metadata": {},
   "outputs": [
    {
     "name": "stderr",
     "output_type": "stream",
     "text": [
      "c:\\Users\\felip\\Desktop\\2024\\MAESTRIA\\almacnamiento_y_recuperacion_informacion\\trabajo_2\\personal-pinecone-vdb\\.venv\\Lib\\site-packages\\tqdm\\auto.py:21: TqdmWarning: IProgress not found. Please update jupyter and ipywidgets. See https://ipywidgets.readthedocs.io/en/stable/user_install.html\n",
      "  from .autonotebook import tqdm as notebook_tqdm\n"
     ]
    }
   ],
   "source": [
    "\n",
    "import os\n",
    "import pandas as pd\n",
    "import re\n",
    "import numpy as np\n",
    "import tiktoken\n",
    "from openai import AzureOpenAI\n",
    "from dotenv import load_dotenv\n",
    "from tqdm.auto import tqdm\n",
    "from time import sleep\n",
    "from pinecone import Pinecone\n",
    "from huggingface_hub import login\n",
    "from datasets import Dataset"
   ]
  },
  {
   "cell_type": "markdown",
   "id": "43297f80",
   "metadata": {},
   "source": [
    "## configurar variables de ambiente y rutas"
   ]
  },
  {
   "cell_type": "code",
   "execution_count": 9,
   "id": "e8753d30",
   "metadata": {},
   "outputs": [],
   "source": [
    "load_dotenv()\n",
    "OPENAI_ENDPOINT = os.environ[\"AZURE_OPENAI_ENDPOINT\"]\n",
    "OPENAI_API_KEY = os.environ[\"AZURE_OPENAI_API_KEY\"] \n",
    "EMBEDDING_DEPLOYMENT = os.environ[\"AZURE_EMBEDDING_DEPLOYMENT\"] \n",
    "OPENAI_API_VERSION =os.environ[\"OPENAI_API_VERSION\"] \n",
    "\n",
    "api_key = os.environ.get('PINECONE_API_KEY')\n",
    "environment = os.environ.get('PINECONE_ENVIRONMENT')\n",
    "use_serverless = os.environ.get(\"USE_SERVERLESS\", \"False\").lower() == \"true\"\n",
    "access_token_hf = os.environ.get('HF_TOKEN')"
   ]
  },
  {
   "cell_type": "code",
   "execution_count": 3,
   "id": "563013bd",
   "metadata": {},
   "outputs": [],
   "source": [
    "src_path = os.getcwd()\n",
    "data_path = '../data'\n",
    "filename = 'climateTwitterData.csv'\n",
    "out_data_path = data_path+'data/out/batch/'"
   ]
  },
  {
   "cell_type": "markdown",
   "id": "eeb4f970",
   "metadata": {},
   "source": [
    "## Leer dataset de entrada"
   ]
  },
  {
   "cell_type": "code",
   "execution_count": 43,
   "id": "1832f9b1",
   "metadata": {},
   "outputs": [
    {
     "name": "stderr",
     "output_type": "stream",
     "text": [
      "C:\\Users\\felip\\AppData\\Local\\Temp\\ipykernel_5024\\788048299.py:1: DtypeWarning: Columns (16,17) have mixed types. Specify dtype option on import or set low_memory=False.\n",
      "  df=pd.read_csv(os.path.join(src_path,data_path,filename))\n"
     ]
    },
    {
     "data": {
      "text/html": [
       "<div>\n",
       "<style scoped>\n",
       "    .dataframe tbody tr th:only-of-type {\n",
       "        vertical-align: middle;\n",
       "    }\n",
       "\n",
       "    .dataframe tbody tr th {\n",
       "        vertical-align: top;\n",
       "    }\n",
       "\n",
       "    .dataframe thead th {\n",
       "        text-align: right;\n",
       "    }\n",
       "</style>\n",
       "<table border=\"1\" class=\"dataframe\">\n",
       "  <thead>\n",
       "    <tr style=\"text-align: right;\">\n",
       "      <th></th>\n",
       "      <th>Unnamed: 0.1</th>\n",
       "      <th>Unnamed: 0</th>\n",
       "      <th>id</th>\n",
       "      <th>author_id</th>\n",
       "      <th>text</th>\n",
       "      <th>retweets</th>\n",
       "      <th>permalink</th>\n",
       "      <th>date</th>\n",
       "      <th>formatted_date</th>\n",
       "      <th>favorites</th>\n",
       "      <th>mentions</th>\n",
       "      <th>hashtags</th>\n",
       "      <th>geo</th>\n",
       "      <th>urls</th>\n",
       "      <th>search_hashtags</th>\n",
       "      <th>location</th>\n",
       "      <th>sentiment1</th>\n",
       "      <th>sentiment2</th>\n",
       "    </tr>\n",
       "  </thead>\n",
       "  <tbody>\n",
       "    <tr>\n",
       "      <th>0</th>\n",
       "      <td>0</td>\n",
       "      <td>0</td>\n",
       "      <td>1.211810e+18</td>\n",
       "      <td>7.590000e+17</td>\n",
       "      <td>2020 is the year we #votethemout, the year we ...</td>\n",
       "      <td>15</td>\n",
       "      <td>https://twitter.com/Sphiamia/status/1211807074...</td>\n",
       "      <td>2019-12-31 00:31:35+00:00</td>\n",
       "      <td>Tue Dec 31 00:31:35 +0000 2019</td>\n",
       "      <td>46</td>\n",
       "      <td>NaN</td>\n",
       "      <td>#votethemout #climatestrike #rebelforlife</td>\n",
       "      <td>NaN</td>\n",
       "      <td>NaN</td>\n",
       "      <td>#climatestrike</td>\n",
       "      <td>California, USA</td>\n",
       "      <td>negative</td>\n",
       "      <td>negative</td>\n",
       "    </tr>\n",
       "    <tr>\n",
       "      <th>1</th>\n",
       "      <td>1</td>\n",
       "      <td>1</td>\n",
       "      <td>1.210670e+18</td>\n",
       "      <td>2.219547e+07</td>\n",
       "      <td>Winter has not stopped this group of dedicated...</td>\n",
       "      <td>9</td>\n",
       "      <td>https://twitter.com/StephDujarric/status/12106...</td>\n",
       "      <td>2019-12-27 20:56:21+00:00</td>\n",
       "      <td>Fri Dec 27 20:56:21 +0000 2019</td>\n",
       "      <td>35</td>\n",
       "      <td>NaN</td>\n",
       "      <td>#climatefriday #climatestrike #ClimateAction</td>\n",
       "      <td>NaN</td>\n",
       "      <td>NaN</td>\n",
       "      <td>#climatestrike</td>\n",
       "      <td>California, USA</td>\n",
       "      <td>positive</td>\n",
       "      <td>positive</td>\n",
       "    </tr>\n",
       "    <tr>\n",
       "      <th>2</th>\n",
       "      <td>2</td>\n",
       "      <td>2</td>\n",
       "      <td>1.210590e+18</td>\n",
       "      <td>1.070000e+18</td>\n",
       "      <td>WEEK 55 of #ClimateStrike at the @UN. Next wee...</td>\n",
       "      <td>545</td>\n",
       "      <td>https://twitter.com/AlexandriaV2005/status/121...</td>\n",
       "      <td>2019-12-27 15:50:22+00:00</td>\n",
       "      <td>Fri Dec 27 15:50:22 +0000 2019</td>\n",
       "      <td>3283</td>\n",
       "      <td>@UN @Fridays4future</td>\n",
       "      <td>#ClimateStrike</td>\n",
       "      <td>NaN</td>\n",
       "      <td>NaN</td>\n",
       "      <td>#climatestrike</td>\n",
       "      <td>California, USA</td>\n",
       "      <td>positive</td>\n",
       "      <td>positive</td>\n",
       "    </tr>\n",
       "    <tr>\n",
       "      <th>3</th>\n",
       "      <td>3</td>\n",
       "      <td>3</td>\n",
       "      <td>1.210260e+18</td>\n",
       "      <td>1.339821e+09</td>\n",
       "      <td>A year of resistance, as youth protests shape...</td>\n",
       "      <td>1</td>\n",
       "      <td>https://twitter.com/EnergyHouseVA/status/12102...</td>\n",
       "      <td>2019-12-26 17:53:26+00:00</td>\n",
       "      <td>Thu Dec 26 17:53:26 +0000 2019</td>\n",
       "      <td>2</td>\n",
       "      <td>NaN</td>\n",
       "      <td>#greta #gretathunberg #climatechange #fridaysf...</td>\n",
       "      <td>NaN</td>\n",
       "      <td>https://www.channelnewsasia.com/news/commentar...</td>\n",
       "      <td>#climatestrike</td>\n",
       "      <td>California, USA</td>\n",
       "      <td>positive</td>\n",
       "      <td>positive</td>\n",
       "    </tr>\n",
       "    <tr>\n",
       "      <th>4</th>\n",
       "      <td>4</td>\n",
       "      <td>4</td>\n",
       "      <td>1.209640e+18</td>\n",
       "      <td>1.339821e+09</td>\n",
       "      <td>HAPPY HOLIDAYS #greta #gretathunberg #climate...</td>\n",
       "      <td>1</td>\n",
       "      <td>https://twitter.com/EnergyHouseVA/status/12096...</td>\n",
       "      <td>2019-12-25 00:56:37+00:00</td>\n",
       "      <td>Wed Dec 25 00:56:37 +0000 2019</td>\n",
       "      <td>4</td>\n",
       "      <td>NaN</td>\n",
       "      <td>#greta #gretathunberg #climatechange #fridaysf...</td>\n",
       "      <td>NaN</td>\n",
       "      <td>http://www.energyhouse.us,http://www.pacenowfo...</td>\n",
       "      <td>#climatestrike</td>\n",
       "      <td>California, USA</td>\n",
       "      <td>positive</td>\n",
       "      <td>positive</td>\n",
       "    </tr>\n",
       "  </tbody>\n",
       "</table>\n",
       "</div>"
      ],
      "text/plain": [
       "   Unnamed: 0.1  Unnamed: 0            id     author_id  \\\n",
       "0             0           0  1.211810e+18  7.590000e+17   \n",
       "1             1           1  1.210670e+18  2.219547e+07   \n",
       "2             2           2  1.210590e+18  1.070000e+18   \n",
       "3             3           3  1.210260e+18  1.339821e+09   \n",
       "4             4           4  1.209640e+18  1.339821e+09   \n",
       "\n",
       "                                                text  retweets  \\\n",
       "0  2020 is the year we #votethemout, the year we ...        15   \n",
       "1  Winter has not stopped this group of dedicated...         9   \n",
       "2  WEEK 55 of #ClimateStrike at the @UN. Next wee...       545   \n",
       "3   A year of resistance, as youth protests shape...         1   \n",
       "4   HAPPY HOLIDAYS #greta #gretathunberg #climate...         1   \n",
       "\n",
       "                                           permalink  \\\n",
       "0  https://twitter.com/Sphiamia/status/1211807074...   \n",
       "1  https://twitter.com/StephDujarric/status/12106...   \n",
       "2  https://twitter.com/AlexandriaV2005/status/121...   \n",
       "3  https://twitter.com/EnergyHouseVA/status/12102...   \n",
       "4  https://twitter.com/EnergyHouseVA/status/12096...   \n",
       "\n",
       "                        date                  formatted_date  favorites  \\\n",
       "0  2019-12-31 00:31:35+00:00  Tue Dec 31 00:31:35 +0000 2019         46   \n",
       "1  2019-12-27 20:56:21+00:00  Fri Dec 27 20:56:21 +0000 2019         35   \n",
       "2  2019-12-27 15:50:22+00:00  Fri Dec 27 15:50:22 +0000 2019       3283   \n",
       "3  2019-12-26 17:53:26+00:00  Thu Dec 26 17:53:26 +0000 2019          2   \n",
       "4  2019-12-25 00:56:37+00:00  Wed Dec 25 00:56:37 +0000 2019          4   \n",
       "\n",
       "              mentions                                           hashtags  \\\n",
       "0                  NaN          #votethemout #climatestrike #rebelforlife   \n",
       "1                  NaN       #climatefriday #climatestrike #ClimateAction   \n",
       "2  @UN @Fridays4future                                     #ClimateStrike   \n",
       "3                  NaN  #greta #gretathunberg #climatechange #fridaysf...   \n",
       "4                  NaN  #greta #gretathunberg #climatechange #fridaysf...   \n",
       "\n",
       "   geo                                               urls search_hashtags  \\\n",
       "0  NaN                                                NaN  #climatestrike   \n",
       "1  NaN                                                NaN  #climatestrike   \n",
       "2  NaN                                                NaN  #climatestrike   \n",
       "3  NaN  https://www.channelnewsasia.com/news/commentar...  #climatestrike   \n",
       "4  NaN  http://www.energyhouse.us,http://www.pacenowfo...  #climatestrike   \n",
       "\n",
       "          location sentiment1 sentiment2  \n",
       "0  California, USA   negative   negative  \n",
       "1  California, USA   positive   positive  \n",
       "2  California, USA   positive   positive  \n",
       "3  California, USA   positive   positive  \n",
       "4  California, USA   positive   positive  "
      ]
     },
     "execution_count": 43,
     "metadata": {},
     "output_type": "execute_result"
    }
   ],
   "source": [
    "df=pd.read_csv(os.path.join(src_path,data_path,filename))\n",
    "df.head()"
   ]
  },
  {
   "cell_type": "code",
   "execution_count": 44,
   "id": "62a335d4",
   "metadata": {},
   "outputs": [
    {
     "data": {
      "text/plain": [
       "search_hashtags\n",
       "#climatestrike       18355\n",
       "#climatechange       16190\n",
       "#climateaction        6378\n",
       "#sustainability       5790\n",
       "#climatecrisis        4982\n",
       "#environment          4703\n",
       "#greennewdeal         4589\n",
       "#globalwarming        4152\n",
       "#fridaysforfuture     3038\n",
       "#actonclimate         1895\n",
       "#savetheplanet        1434\n",
       "#bushfires             899\n",
       "Name: count, dtype: int64"
      ]
     },
     "execution_count": 44,
     "metadata": {},
     "output_type": "execute_result"
    }
   ],
   "source": [
    "df['search_hashtags'].value_counts()"
   ]
  },
  {
   "cell_type": "code",
   "execution_count": 45,
   "id": "66e9f126",
   "metadata": {},
   "outputs": [
    {
     "name": "stdout",
     "output_type": "stream",
     "text": [
      "<class 'pandas.core.frame.DataFrame'>\n",
      "RangeIndex: 72405 entries, 0 to 72404\n",
      "Data columns (total 18 columns):\n",
      " #   Column           Non-Null Count  Dtype  \n",
      "---  ------           --------------  -----  \n",
      " 0   Unnamed: 0.1     72405 non-null  int64  \n",
      " 1   Unnamed: 0       72405 non-null  int64  \n",
      " 2   id               72405 non-null  float64\n",
      " 3   author_id        72405 non-null  float64\n",
      " 4   text             72405 non-null  object \n",
      " 5   retweets         72405 non-null  int64  \n",
      " 6   permalink        72405 non-null  object \n",
      " 7   date             72405 non-null  object \n",
      " 8   formatted_date   72405 non-null  object \n",
      " 9   favorites        72405 non-null  int64  \n",
      " 10  mentions         27554 non-null  object \n",
      " 11  hashtags         72402 non-null  object \n",
      " 12  geo              0 non-null      float64\n",
      " 13  urls             33349 non-null  object \n",
      " 14  search_hashtags  72405 non-null  object \n",
      " 15  location         72405 non-null  object \n",
      " 16  sentiment1       30000 non-null  object \n",
      " 17  sentiment2       30000 non-null  object \n",
      "dtypes: float64(3), int64(4), object(11)\n",
      "memory usage: 9.9+ MB\n"
     ]
    }
   ],
   "source": [
    "df.info()"
   ]
  },
  {
   "cell_type": "markdown",
   "id": "0c5e44e0",
   "metadata": {},
   "source": [
    "## Preprocesar dataset para crear embeddings"
   ]
  },
  {
   "cell_type": "markdown",
   "id": "74b43060",
   "metadata": {},
   "source": [
    "### pre-pocesar dataframe"
   ]
  },
  {
   "cell_type": "code",
   "execution_count": 46,
   "id": "d7c4e5ee",
   "metadata": {},
   "outputs": [
    {
     "data": {
      "text/html": [
       "<div>\n",
       "<style scoped>\n",
       "    .dataframe tbody tr th:only-of-type {\n",
       "        vertical-align: middle;\n",
       "    }\n",
       "\n",
       "    .dataframe tbody tr th {\n",
       "        vertical-align: top;\n",
       "    }\n",
       "\n",
       "    .dataframe thead th {\n",
       "        text-align: right;\n",
       "    }\n",
       "</style>\n",
       "<table border=\"1\" class=\"dataframe\">\n",
       "  <thead>\n",
       "    <tr style=\"text-align: right;\">\n",
       "      <th></th>\n",
       "      <th>text</th>\n",
       "      <th>date</th>\n",
       "      <th>hashtags</th>\n",
       "      <th>search_hashtags</th>\n",
       "      <th>location</th>\n",
       "      <th>sentiment1</th>\n",
       "    </tr>\n",
       "  </thead>\n",
       "  <tbody>\n",
       "    <tr>\n",
       "      <th>0</th>\n",
       "      <td>2020 is the year we #votethemout, the year we ...</td>\n",
       "      <td>2019-12-31 00:31:35+00:00</td>\n",
       "      <td>#votethemout #climatestrike #rebelforlife</td>\n",
       "      <td>#climatestrike</td>\n",
       "      <td>California, USA</td>\n",
       "      <td>negative</td>\n",
       "    </tr>\n",
       "    <tr>\n",
       "      <th>1</th>\n",
       "      <td>Winter has not stopped this group of dedicated...</td>\n",
       "      <td>2019-12-27 20:56:21+00:00</td>\n",
       "      <td>#climatefriday #climatestrike #ClimateAction</td>\n",
       "      <td>#climatestrike</td>\n",
       "      <td>California, USA</td>\n",
       "      <td>positive</td>\n",
       "    </tr>\n",
       "    <tr>\n",
       "      <th>2</th>\n",
       "      <td>WEEK 55 of #ClimateStrike at the @UN. Next wee...</td>\n",
       "      <td>2019-12-27 15:50:22+00:00</td>\n",
       "      <td>#ClimateStrike</td>\n",
       "      <td>#climatestrike</td>\n",
       "      <td>California, USA</td>\n",
       "      <td>positive</td>\n",
       "    </tr>\n",
       "    <tr>\n",
       "      <th>3</th>\n",
       "      <td>A year of resistance, as youth protests shape...</td>\n",
       "      <td>2019-12-26 17:53:26+00:00</td>\n",
       "      <td>#greta #gretathunberg #climatechange #fridaysf...</td>\n",
       "      <td>#climatestrike</td>\n",
       "      <td>California, USA</td>\n",
       "      <td>positive</td>\n",
       "    </tr>\n",
       "    <tr>\n",
       "      <th>4</th>\n",
       "      <td>HAPPY HOLIDAYS #greta #gretathunberg #climate...</td>\n",
       "      <td>2019-12-25 00:56:37+00:00</td>\n",
       "      <td>#greta #gretathunberg #climatechange #fridaysf...</td>\n",
       "      <td>#climatestrike</td>\n",
       "      <td>California, USA</td>\n",
       "      <td>positive</td>\n",
       "    </tr>\n",
       "  </tbody>\n",
       "</table>\n",
       "</div>"
      ],
      "text/plain": [
       "                                                text  \\\n",
       "0  2020 is the year we #votethemout, the year we ...   \n",
       "1  Winter has not stopped this group of dedicated...   \n",
       "2  WEEK 55 of #ClimateStrike at the @UN. Next wee...   \n",
       "3   A year of resistance, as youth protests shape...   \n",
       "4   HAPPY HOLIDAYS #greta #gretathunberg #climate...   \n",
       "\n",
       "                        date  \\\n",
       "0  2019-12-31 00:31:35+00:00   \n",
       "1  2019-12-27 20:56:21+00:00   \n",
       "2  2019-12-27 15:50:22+00:00   \n",
       "3  2019-12-26 17:53:26+00:00   \n",
       "4  2019-12-25 00:56:37+00:00   \n",
       "\n",
       "                                            hashtags search_hashtags  \\\n",
       "0          #votethemout #climatestrike #rebelforlife  #climatestrike   \n",
       "1       #climatefriday #climatestrike #ClimateAction  #climatestrike   \n",
       "2                                     #ClimateStrike  #climatestrike   \n",
       "3  #greta #gretathunberg #climatechange #fridaysf...  #climatestrike   \n",
       "4  #greta #gretathunberg #climatechange #fridaysf...  #climatestrike   \n",
       "\n",
       "          location sentiment1  \n",
       "0  California, USA   negative  \n",
       "1  California, USA   positive  \n",
       "2  California, USA   positive  \n",
       "3  California, USA   positive  \n",
       "4  California, USA   positive  "
      ]
     },
     "execution_count": 46,
     "metadata": {},
     "output_type": "execute_result"
    }
   ],
   "source": [
    "df_procesado = df[['text','date','hashtags','search_hashtags',\t'location',\t'sentiment1']]\n",
    "\n",
    "df_procesado = df_procesado.dropna(thresh= 4 , axis=0 )\n",
    "\n",
    "df_procesado = df_procesado.drop_duplicates()\n",
    "\n",
    "df_procesado.head()"
   ]
  },
  {
   "cell_type": "code",
   "execution_count": 47,
   "id": "1d140b56",
   "metadata": {},
   "outputs": [
    {
     "name": "stdout",
     "output_type": "stream",
     "text": [
      "<class 'pandas.core.frame.DataFrame'>\n",
      "Index: 61254 entries, 0 to 72404\n",
      "Data columns (total 6 columns):\n",
      " #   Column           Non-Null Count  Dtype \n",
      "---  ------           --------------  ----- \n",
      " 0   text             61254 non-null  object\n",
      " 1   date             61254 non-null  object\n",
      " 2   hashtags         61252 non-null  object\n",
      " 3   search_hashtags  61254 non-null  object\n",
      " 4   location         61254 non-null  object\n",
      " 5   sentiment1       24709 non-null  object\n",
      "dtypes: object(6)\n",
      "memory usage: 3.3+ MB\n"
     ]
    }
   ],
   "source": [
    "df_procesado.info()"
   ]
  },
  {
   "cell_type": "code",
   "execution_count": 48,
   "id": "93bfe7f6",
   "metadata": {},
   "outputs": [
    {
     "name": "stdout",
     "output_type": "stream",
     "text": [
      "<class 'pandas.core.frame.DataFrame'>\n",
      "RangeIndex: 61254 entries, 0 to 61253\n",
      "Data columns (total 8 columns):\n",
      " #   Column           Non-Null Count  Dtype \n",
      "---  ------           --------------  ----- \n",
      " 0   id               61254 non-null  int64 \n",
      " 1   text             61254 non-null  object\n",
      " 2   date             61254 non-null  object\n",
      " 3   hashtags         61254 non-null  object\n",
      " 4   search_hashtags  61254 non-null  object\n",
      " 5   location         61254 non-null  object\n",
      " 6   sentiment1       61254 non-null  object\n",
      " 7   aumented_text    61254 non-null  object\n",
      "dtypes: int64(1), object(7)\n",
      "memory usage: 3.7+ MB\n"
     ]
    }
   ],
   "source": [
    "# Convertir la columna \"date\" a formato str aaaa-mm-dd sin la hora\n",
    "df_procesado.loc[:,'date'] = pd.to_datetime(df['date']).dt.strftime('%Y-%m-%d')\n",
    "\n",
    "# Manejar NaN en la columna 'hashtags' y 'sentiment1'\n",
    "df_procesado.loc[:,'hashtags'] = df_procesado['hashtags'].fillna('')\n",
    "\n",
    "df_procesado.loc[:,'sentiment1'] = df_procesado['sentiment1'].fillna('')\n",
    "\n",
    "# unir columnas\n",
    "df_procesado.loc[:,'aumented_text'] = df_procesado['text'] + '. date: ' + df_procesado['date'] + '. location: ' + df_procesado['location'] + '. sentiment: ' + df_procesado['sentiment1']\n",
    "\n",
    "#crear indice para los embeddigs del texto de cada fila\n",
    "df_procesado = df_procesado.reset_index(names=\"id\")\n",
    "\n",
    "df_procesado.info()\n"
   ]
  },
  {
   "cell_type": "markdown",
   "id": "eb3cbc8b",
   "metadata": {},
   "source": [
    "### limpieza de texto columna aumentet_text"
   ]
  },
  {
   "cell_type": "code",
   "execution_count": 49,
   "id": "e9665b14",
   "metadata": {},
   "outputs": [],
   "source": [
    "def limpiar_texto(texto:str):\n",
    "    texto = texto.lower() \n",
    "    texto = re.sub(r'\\s+',  ' ', texto).strip()\n",
    "    texto = texto.replace(\"\\n\", \"\")\n",
    "    texto = texto.strip()\n",
    "    return texto\n",
    "\n",
    "df_procesado['clean_text']= df_procesado[\"aumented_text\"].apply(lambda x : limpiar_texto(x))"
   ]
  },
  {
   "cell_type": "markdown",
   "id": "eb0a3983",
   "metadata": {},
   "source": [
    "Segun la documentacion del modelo de embed text-embedding-ada-002 el numero de tokens no debe exceder 8192. Sino se debe dividir el texto. Para este dataset no es necesario, ningun texto supera ese numero."
   ]
  },
  {
   "cell_type": "code",
   "execution_count": 50,
   "id": "4ac89bfe",
   "metadata": {},
   "outputs": [],
   "source": [
    "tokenizer = tiktoken.get_encoding(\"cl100k_base\")\n",
    "# calcular el numero de tokest en el texto \n",
    "df_procesado['n_tokens_text'] = df_procesado[\"aumented_text\"].apply(lambda x: len(tokenizer.encode(x)))\n",
    "df_procesado['n_tokens_clean'] = df_procesado[\"clean_text\"].apply(lambda x: len(tokenizer.encode(x)))\n"
   ]
  },
  {
   "cell_type": "code",
   "execution_count": 51,
   "id": "c120323b",
   "metadata": {},
   "outputs": [
    {
     "data": {
      "text/html": [
       "<div>\n",
       "<style scoped>\n",
       "    .dataframe tbody tr th:only-of-type {\n",
       "        vertical-align: middle;\n",
       "    }\n",
       "\n",
       "    .dataframe tbody tr th {\n",
       "        vertical-align: top;\n",
       "    }\n",
       "\n",
       "    .dataframe thead th {\n",
       "        text-align: right;\n",
       "    }\n",
       "</style>\n",
       "<table border=\"1\" class=\"dataframe\">\n",
       "  <thead>\n",
       "    <tr style=\"text-align: right;\">\n",
       "      <th></th>\n",
       "      <th>n_tokens_text</th>\n",
       "      <th>n_tokens_clean</th>\n",
       "    </tr>\n",
       "  </thead>\n",
       "  <tbody>\n",
       "    <tr>\n",
       "      <th>count</th>\n",
       "      <td>61254.000000</td>\n",
       "      <td>61254.000000</td>\n",
       "    </tr>\n",
       "    <tr>\n",
       "      <th>mean</th>\n",
       "      <td>68.726173</td>\n",
       "      <td>68.453815</td>\n",
       "    </tr>\n",
       "    <tr>\n",
       "      <th>std</th>\n",
       "      <td>25.124593</td>\n",
       "      <td>24.939604</td>\n",
       "    </tr>\n",
       "    <tr>\n",
       "      <th>min</th>\n",
       "      <td>21.000000</td>\n",
       "      <td>21.000000</td>\n",
       "    </tr>\n",
       "    <tr>\n",
       "      <th>25%</th>\n",
       "      <td>50.000000</td>\n",
       "      <td>50.000000</td>\n",
       "    </tr>\n",
       "    <tr>\n",
       "      <th>50%</th>\n",
       "      <td>68.000000</td>\n",
       "      <td>68.000000</td>\n",
       "    </tr>\n",
       "    <tr>\n",
       "      <th>75%</th>\n",
       "      <td>85.000000</td>\n",
       "      <td>85.000000</td>\n",
       "    </tr>\n",
       "    <tr>\n",
       "      <th>max</th>\n",
       "      <td>455.000000</td>\n",
       "      <td>408.000000</td>\n",
       "    </tr>\n",
       "  </tbody>\n",
       "</table>\n",
       "</div>"
      ],
      "text/plain": [
       "       n_tokens_text  n_tokens_clean\n",
       "count   61254.000000    61254.000000\n",
       "mean       68.726173       68.453815\n",
       "std        25.124593       24.939604\n",
       "min        21.000000       21.000000\n",
       "25%        50.000000       50.000000\n",
       "50%        68.000000       68.000000\n",
       "75%        85.000000       85.000000\n",
       "max       455.000000      408.000000"
      ]
     },
     "execution_count": 51,
     "metadata": {},
     "output_type": "execute_result"
    }
   ],
   "source": [
    "df_procesado[['n_tokens_text','n_tokens_clean']].describe()"
   ]
  },
  {
   "cell_type": "code",
   "execution_count": 52,
   "id": "033e2fa0",
   "metadata": {},
   "outputs": [
    {
     "name": "stdout",
     "output_type": "stream",
     "text": [
      "<class 'pandas.core.frame.DataFrame'>\n",
      "RangeIndex: 61254 entries, 0 to 61253\n",
      "Data columns (total 11 columns):\n",
      " #   Column           Non-Null Count  Dtype \n",
      "---  ------           --------------  ----- \n",
      " 0   id               61254 non-null  int64 \n",
      " 1   text             61254 non-null  object\n",
      " 2   date             61254 non-null  object\n",
      " 3   hashtags         61254 non-null  object\n",
      " 4   search_hashtags  61254 non-null  object\n",
      " 5   location         61254 non-null  object\n",
      " 6   sentiment1       61254 non-null  object\n",
      " 7   aumented_text    61254 non-null  object\n",
      " 8   clean_text       61254 non-null  object\n",
      " 9   n_tokens_text    61254 non-null  int64 \n",
      " 10  n_tokens_clean   61254 non-null  int64 \n",
      "dtypes: int64(3), object(8)\n",
      "memory usage: 5.1+ MB\n"
     ]
    }
   ],
   "source": [
    "df_procesado.info()"
   ]
  },
  {
   "cell_type": "code",
   "execution_count": 53,
   "id": "03b29810",
   "metadata": {},
   "outputs": [],
   "source": [
    "def crear_metadata(row):\n",
    "    metadata = {\n",
    "        \"search_hashtags\": row[\"search_hashtags\"],\n",
    "        \"date\": row[\"date\"],\n",
    "        \"location\": row[\"location\"],\n",
    "        \"hashtags\": row[\"hashtags\"],\n",
    "        \"sentiment1\": row[\"sentiment1\"],\n",
    "        \"texto\": row[\"clean_text\"]\n",
    "    }\n",
    "    return metadata\n",
    "df_procesado['metadata'] = df_procesado.apply(lambda row: crear_metadata(row), axis=1)"
   ]
  },
  {
   "cell_type": "code",
   "execution_count": 54,
   "id": "c9301cdc",
   "metadata": {},
   "outputs": [],
   "source": [
    "df_final_procesado = df_procesado[['id','clean_text','metadata']].copy()"
   ]
  },
  {
   "cell_type": "code",
   "execution_count": 55,
   "id": "2bbf6678",
   "metadata": {},
   "outputs": [
    {
     "name": "stdout",
     "output_type": "stream",
     "text": [
      "<class 'pandas.core.frame.DataFrame'>\n",
      "RangeIndex: 61254 entries, 0 to 61253\n",
      "Data columns (total 3 columns):\n",
      " #   Column      Non-Null Count  Dtype \n",
      "---  ------      --------------  ----- \n",
      " 0   id          61254 non-null  int64 \n",
      " 1   clean_text  61254 non-null  object\n",
      " 2   metadata    61254 non-null  object\n",
      "dtypes: int64(1), object(2)\n",
      "memory usage: 1.4+ MB\n"
     ]
    }
   ],
   "source": [
    "df_final_procesado.info()"
   ]
  },
  {
   "cell_type": "markdown",
   "id": "a1ff3744",
   "metadata": {},
   "source": [
    "##   Crear embeddings con modelo de embeddings pre-entrenado de OpenIA"
   ]
  },
  {
   "cell_type": "markdown",
   "id": "87aa442d",
   "metadata": {},
   "source": [
    "### crear cliente para conexion con modelo de embedding de azure openIA"
   ]
  },
  {
   "cell_type": "code",
   "execution_count": 56,
   "id": "92005fe5",
   "metadata": {},
   "outputs": [],
   "source": [
    "client = AzureOpenAI(\n",
    "  api_key = OPENAI_API_KEY,  \n",
    "  api_version = OPENAI_API_VERSION,\n",
    "  azure_endpoint = OPENAI_ENDPOINT\n",
    ")\n",
    "def generar_embedding(texto:str, modelo:str=EMBEDDING_DEPLOYMENT)->list[float]:\n",
    "    \"\"\"Funcion para crear embedings a partir de un texto usando modelo model \"\"\"\n",
    "    return client.embeddings.create(input = [texto], model=modelo).data[0].embedding\n",
    "\n",
    "def generar_embeddings_por_lote(textos:list, modelo:str=EMBEDDING_DEPLOYMENT)->list:\n",
    "    \"\"\"Funcion para crear embedings a partir de una lista de textos usando modelo model \"\"\"\n",
    "    return client.embeddings.create(input = textos, model=modelo).data\n",
    "    "
   ]
  },
  {
   "cell_type": "markdown",
   "id": "93205fc4",
   "metadata": {},
   "source": [
    "### Crear funcion para crear embeddings de textos en dataframe por lotes"
   ]
  },
  {
   "cell_type": "code",
   "execution_count": 57,
   "id": "825dd423",
   "metadata": {},
   "outputs": [],
   "source": [
    "def procesar_df_por_lotes(df:pd.DataFrame,tamaño_lote:int= 200, guardar:bool = True)->pd.DataFrame:\n",
    "    \"\"\"Funcion para procesar dataframe por lotes de n_lote \"\"\"\n",
    "\n",
    "    # Dividir el DataFrame en lotes y procesar cada lote\n",
    "    lotes = []\n",
    "    lote_inicial =0\n",
    "    lote_actual = 0\n",
    "    for i in tqdm(range(0, len(df), tamaño_lote)):\n",
    "        # indice final del lote\n",
    "        i_end = min(len(df), i+tamaño_lote)\n",
    "        meta_batch = df[i:i_end]\n",
    "        # lista ids\n",
    "        ids_batch = [x['id'] for _,x in meta_batch.iterrows()]\n",
    "        # lista de textos para embed\n",
    "        textos = [x['clean_text'] for _,x in meta_batch.iterrows()]\n",
    "        # lista metadatos\n",
    "        # crear embeddings\n",
    "        try:\n",
    "            res = generar_embeddings_por_lote(textos, modelo=EMBEDDING_DEPLOYMENT)\n",
    "        except Exception as e:\n",
    "            done = False\n",
    "            print(f\"Reitentar solicitud, error {e}\")\n",
    "            while not done:\n",
    "                sleep(5)\n",
    "                try:\n",
    "                    res = generar_embeddings_por_lote(textos, modelo=EMBEDDING_DEPLOYMENT)\n",
    "                    done = True\n",
    "                except:\n",
    "                    print(f\"Reitentar solicitud, error {e}\")\n",
    "                    pass\n",
    "        embeds = [record.embedding for record in res]\n",
    "        metadata_batch = meta_batch['metadata'].to_list()\n",
    "\n",
    "        embeded_data = list(zip(ids_batch, textos ,embeds, metadata_batch))\n",
    "\n",
    "        # Crear un DataFrame a partir de los datos combinados\n",
    "        df_embeded = pd.DataFrame(embeded_data, columns=['id','text','embeddings','metadata'])\n",
    "\n",
    "        lotes.append(df_embeded)\n",
    "        lote_actual = lote_actual + 1\n",
    "        if (lote_actual % 20 == 0) and guardar:\n",
    "            \n",
    "            # Guardar el archivo temporal cada 2000 ejecuciones\n",
    "            file_name = f'climateTwitterEmbedData_{i_end}.csv'\n",
    "            file_path = os.path.join(src_path, data_path, 'out', 'batch', file_name)\n",
    "            lista_temp= lotes[lote_inicial:lote_actual]\n",
    "            print(f\"lote_actual->{lote_actual}\")\n",
    "            print(f\"lote_inicial->{lote_inicial}\")\n",
    "            print(f\"lista_temporal_guardada->{len(lista_temp)}\")\n",
    "\n",
    "\n",
    "            df_embeded_accum = pd.concat(lista_temp, ignore_index=True)\n",
    "            df_embeded_accum.to_csv(file_path, sep=\";\",index=False)\n",
    "            lote_inicial = lote_actual\n",
    "            \n",
    "  \n",
    "    # Concatenar los resultados en un solo DataFrame\n",
    "    df_out = pd.concat(lotes, ignore_index=True)\n",
    "    return df_out"
   ]
  },
  {
   "cell_type": "markdown",
   "id": "a80b3a69",
   "metadata": {},
   "source": [
    "### Crear df con ids, vectores y metadata para cargar en base de datos vectorial"
   ]
  },
  {
   "cell_type": "code",
   "execution_count": 58,
   "id": "61706d86",
   "metadata": {},
   "outputs": [
    {
     "name": "stderr",
     "output_type": "stream",
     "text": [
      "  6%|▌         | 19/307 [18:25<4:55:00, 61.46s/it]"
     ]
    },
    {
     "name": "stdout",
     "output_type": "stream",
     "text": [
      "lote_actual->20\n",
      "lote_inicial->0\n",
      "lista_temporal_guardada->20\n"
     ]
    },
    {
     "name": "stderr",
     "output_type": "stream",
     "text": [
      " 13%|█▎        | 39/307 [38:46<4:33:03, 61.13s/it]"
     ]
    },
    {
     "name": "stdout",
     "output_type": "stream",
     "text": [
      "lote_actual->40\n",
      "lote_inicial->20\n",
      "lista_temporal_guardada->20\n"
     ]
    },
    {
     "name": "stderr",
     "output_type": "stream",
     "text": [
      " 19%|█▉        | 59/307 [59:09<4:13:10, 61.25s/it]"
     ]
    },
    {
     "name": "stdout",
     "output_type": "stream",
     "text": [
      "lote_actual->60\n",
      "lote_inicial->40\n",
      "lista_temporal_guardada->20\n"
     ]
    },
    {
     "name": "stderr",
     "output_type": "stream",
     "text": [
      " 26%|██▌       | 79/307 [1:19:33<3:54:01, 61.59s/it]"
     ]
    },
    {
     "name": "stdout",
     "output_type": "stream",
     "text": [
      "lote_actual->80\n",
      "lote_inicial->60\n",
      "lista_temporal_guardada->20\n"
     ]
    },
    {
     "name": "stderr",
     "output_type": "stream",
     "text": [
      " 32%|███▏      | 99/307 [1:39:54<3:31:47, 61.10s/it]"
     ]
    },
    {
     "name": "stdout",
     "output_type": "stream",
     "text": [
      "lote_actual->100\n",
      "lote_inicial->80\n",
      "lista_temporal_guardada->20\n"
     ]
    },
    {
     "name": "stderr",
     "output_type": "stream",
     "text": [
      " 39%|███▉      | 119/307 [2:00:18<3:11:39, 61.17s/it]"
     ]
    },
    {
     "name": "stdout",
     "output_type": "stream",
     "text": [
      "lote_actual->120\n",
      "lote_inicial->100\n",
      "lista_temporal_guardada->20\n"
     ]
    },
    {
     "name": "stderr",
     "output_type": "stream",
     "text": [
      " 45%|████▌     | 139/307 [2:20:42<2:51:05, 61.11s/it]"
     ]
    },
    {
     "name": "stdout",
     "output_type": "stream",
     "text": [
      "lote_actual->140\n",
      "lote_inicial->120\n",
      "lista_temporal_guardada->20\n"
     ]
    },
    {
     "name": "stderr",
     "output_type": "stream",
     "text": [
      " 52%|█████▏    | 159/307 [2:41:04<2:30:30, 61.02s/it]"
     ]
    },
    {
     "name": "stdout",
     "output_type": "stream",
     "text": [
      "lote_actual->160\n",
      "lote_inicial->140\n",
      "lista_temporal_guardada->20\n"
     ]
    },
    {
     "name": "stderr",
     "output_type": "stream",
     "text": [
      " 58%|█████▊    | 179/307 [3:01:26<2:10:19, 61.09s/it]"
     ]
    },
    {
     "name": "stdout",
     "output_type": "stream",
     "text": [
      "lote_actual->180\n",
      "lote_inicial->160\n",
      "lista_temporal_guardada->20\n"
     ]
    },
    {
     "name": "stderr",
     "output_type": "stream",
     "text": [
      " 65%|██████▍   | 199/307 [3:21:48<1:49:44, 60.97s/it]"
     ]
    },
    {
     "name": "stdout",
     "output_type": "stream",
     "text": [
      "lote_actual->200\n",
      "lote_inicial->180\n",
      "lista_temporal_guardada->20\n"
     ]
    },
    {
     "name": "stderr",
     "output_type": "stream",
     "text": [
      " 70%|██████▉   | 214/307 [3:37:06<1:34:44, 61.13s/it]"
     ]
    },
    {
     "name": "stdout",
     "output_type": "stream",
     "text": [
      "Reitentar solicitud, error Error code: 429 - {'error': {'code': '429', 'message': 'Requests to the Embeddings_Create Operation under Azure OpenAI API version 2023-05-15 have exceeded call rate limit of your current OpenAI S0 pricing tier. Please retry after 52 seconds. Please go here: https://aka.ms/oai/quotaincrease if you would like to further increase the default rate limit.'}}\n"
     ]
    },
    {
     "name": "stderr",
     "output_type": "stream",
     "text": [
      " 71%|███████▏  | 219/307 [3:43:21<1:34:19, 64.32s/it]"
     ]
    },
    {
     "name": "stdout",
     "output_type": "stream",
     "text": [
      "lote_actual->220\n",
      "lote_inicial->200\n",
      "lista_temporal_guardada->20\n"
     ]
    },
    {
     "name": "stderr",
     "output_type": "stream",
     "text": [
      " 78%|███████▊  | 239/307 [4:03:56<1:09:12, 61.07s/it]"
     ]
    },
    {
     "name": "stdout",
     "output_type": "stream",
     "text": [
      "lote_actual->240\n",
      "lote_inicial->220\n",
      "lista_temporal_guardada->20\n"
     ]
    },
    {
     "name": "stderr",
     "output_type": "stream",
     "text": [
      " 84%|████████▍ | 259/307 [4:24:19<48:51, 61.06s/it]  "
     ]
    },
    {
     "name": "stdout",
     "output_type": "stream",
     "text": [
      "lote_actual->260\n",
      "lote_inicial->240\n",
      "lista_temporal_guardada->20\n"
     ]
    },
    {
     "name": "stderr",
     "output_type": "stream",
     "text": [
      " 91%|█████████ | 279/307 [4:44:42<28:32, 61.17s/it]"
     ]
    },
    {
     "name": "stdout",
     "output_type": "stream",
     "text": [
      "lote_actual->280\n",
      "lote_inicial->260\n",
      "lista_temporal_guardada->20\n"
     ]
    },
    {
     "name": "stderr",
     "output_type": "stream",
     "text": [
      " 97%|█████████▋| 299/307 [5:05:04<08:08, 61.05s/it]"
     ]
    },
    {
     "name": "stdout",
     "output_type": "stream",
     "text": [
      "lote_actual->300\n",
      "lote_inicial->280\n",
      "lista_temporal_guardada->20\n"
     ]
    },
    {
     "name": "stderr",
     "output_type": "stream",
     "text": [
      "100%|██████████| 307/307 [5:13:12<00:00, 61.21s/it]\n"
     ]
    }
   ],
   "source": [
    "df_embeded = procesar_df_por_lotes(df_final_procesado,tamaño_lote= 200)"
   ]
  },
  {
   "cell_type": "code",
   "execution_count": 59,
   "id": "15f139a2",
   "metadata": {},
   "outputs": [
    {
     "data": {
      "text/html": [
       "<div>\n",
       "<style scoped>\n",
       "    .dataframe tbody tr th:only-of-type {\n",
       "        vertical-align: middle;\n",
       "    }\n",
       "\n",
       "    .dataframe tbody tr th {\n",
       "        vertical-align: top;\n",
       "    }\n",
       "\n",
       "    .dataframe thead th {\n",
       "        text-align: right;\n",
       "    }\n",
       "</style>\n",
       "<table border=\"1\" class=\"dataframe\">\n",
       "  <thead>\n",
       "    <tr style=\"text-align: right;\">\n",
       "      <th></th>\n",
       "      <th>id</th>\n",
       "      <th>text</th>\n",
       "      <th>embeddings</th>\n",
       "      <th>metadata</th>\n",
       "    </tr>\n",
       "  </thead>\n",
       "  <tbody>\n",
       "    <tr>\n",
       "      <th>0</th>\n",
       "      <td>0</td>\n",
       "      <td>2020 is the year we #votethemout, the year we ...</td>\n",
       "      <td>[-0.0329987034201622, -0.04772832244634628, -0...</td>\n",
       "      <td>{'search_hashtags': '#climatestrike', 'date': ...</td>\n",
       "    </tr>\n",
       "    <tr>\n",
       "      <th>1</th>\n",
       "      <td>1</td>\n",
       "      <td>winter has not stopped this group of dedicated...</td>\n",
       "      <td>[-0.022893592715263367, -0.0438067689538002, -...</td>\n",
       "      <td>{'search_hashtags': '#climatestrike', 'date': ...</td>\n",
       "    </tr>\n",
       "    <tr>\n",
       "      <th>2</th>\n",
       "      <td>2</td>\n",
       "      <td>week 55 of #climatestrike at the @un. next wee...</td>\n",
       "      <td>[-0.02628657966852188, -0.038114212453365326, ...</td>\n",
       "      <td>{'search_hashtags': '#climatestrike', 'date': ...</td>\n",
       "    </tr>\n",
       "    <tr>\n",
       "      <th>3</th>\n",
       "      <td>3</td>\n",
       "      <td>a year of resistance, as youth protests shaped...</td>\n",
       "      <td>[-0.013956073671579361, -0.04684501141309738, ...</td>\n",
       "      <td>{'search_hashtags': '#climatestrike', 'date': ...</td>\n",
       "    </tr>\n",
       "    <tr>\n",
       "      <th>4</th>\n",
       "      <td>4</td>\n",
       "      <td>happy holidays #greta #gretathunberg #climatec...</td>\n",
       "      <td>[-0.023563934490084648, -0.03334088623523712, ...</td>\n",
       "      <td>{'search_hashtags': '#climatestrike', 'date': ...</td>\n",
       "    </tr>\n",
       "    <tr>\n",
       "      <th>...</th>\n",
       "      <td>...</td>\n",
       "      <td>...</td>\n",
       "      <td>...</td>\n",
       "      <td>...</td>\n",
       "    </tr>\n",
       "    <tr>\n",
       "      <th>61249</th>\n",
       "      <td>72400</td>\n",
       "      <td>no more straws at lbm... only if you ask for i...</td>\n",
       "      <td>[-0.03119616024196148, -0.022216686978936195, ...</td>\n",
       "      <td>{'search_hashtags': '#savetheplanet', 'date': ...</td>\n",
       "    </tr>\n",
       "    <tr>\n",
       "      <th>61250</th>\n",
       "      <td>72401</td>\n",
       "      <td>my #trumps may not believe in #climatechange b...</td>\n",
       "      <td>[-0.04546879976987839, -0.015453536063432693, ...</td>\n",
       "      <td>{'search_hashtags': '#savetheplanet', 'date': ...</td>\n",
       "    </tr>\n",
       "    <tr>\n",
       "      <th>61251</th>\n",
       "      <td>72402</td>\n",
       "      <td>time is over. act now!!! #friday4future #clima...</td>\n",
       "      <td>[-0.01593591459095478, -0.028650032356381416, ...</td>\n",
       "      <td>{'search_hashtags': '#savetheplanet', 'date': ...</td>\n",
       "    </tr>\n",
       "    <tr>\n",
       "      <th>61252</th>\n",
       "      <td>72403</td>\n",
       "      <td>this is my first contribution on visualizing t...</td>\n",
       "      <td>[-0.012159015983343124, -0.01347509678453207, ...</td>\n",
       "      <td>{'search_hashtags': '#savetheplanet', 'date': ...</td>\n",
       "    </tr>\n",
       "    <tr>\n",
       "      <th>61253</th>\n",
       "      <td>72404</td>\n",
       "      <td>\"this assault on science is an outrage and sho...</td>\n",
       "      <td>[-0.0009108334197662771, -0.004068664275109768...</td>\n",
       "      <td>{'search_hashtags': '#savetheplanet', 'date': ...</td>\n",
       "    </tr>\n",
       "  </tbody>\n",
       "</table>\n",
       "<p>61254 rows × 4 columns</p>\n",
       "</div>"
      ],
      "text/plain": [
       "          id                                               text  \\\n",
       "0          0  2020 is the year we #votethemout, the year we ...   \n",
       "1          1  winter has not stopped this group of dedicated...   \n",
       "2          2  week 55 of #climatestrike at the @un. next wee...   \n",
       "3          3  a year of resistance, as youth protests shaped...   \n",
       "4          4  happy holidays #greta #gretathunberg #climatec...   \n",
       "...      ...                                                ...   \n",
       "61249  72400  no more straws at lbm... only if you ask for i...   \n",
       "61250  72401  my #trumps may not believe in #climatechange b...   \n",
       "61251  72402  time is over. act now!!! #friday4future #clima...   \n",
       "61252  72403  this is my first contribution on visualizing t...   \n",
       "61253  72404  \"this assault on science is an outrage and sho...   \n",
       "\n",
       "                                              embeddings  \\\n",
       "0      [-0.0329987034201622, -0.04772832244634628, -0...   \n",
       "1      [-0.022893592715263367, -0.0438067689538002, -...   \n",
       "2      [-0.02628657966852188, -0.038114212453365326, ...   \n",
       "3      [-0.013956073671579361, -0.04684501141309738, ...   \n",
       "4      [-0.023563934490084648, -0.03334088623523712, ...   \n",
       "...                                                  ...   \n",
       "61249  [-0.03119616024196148, -0.022216686978936195, ...   \n",
       "61250  [-0.04546879976987839, -0.015453536063432693, ...   \n",
       "61251  [-0.01593591459095478, -0.028650032356381416, ...   \n",
       "61252  [-0.012159015983343124, -0.01347509678453207, ...   \n",
       "61253  [-0.0009108334197662771, -0.004068664275109768...   \n",
       "\n",
       "                                                metadata  \n",
       "0      {'search_hashtags': '#climatestrike', 'date': ...  \n",
       "1      {'search_hashtags': '#climatestrike', 'date': ...  \n",
       "2      {'search_hashtags': '#climatestrike', 'date': ...  \n",
       "3      {'search_hashtags': '#climatestrike', 'date': ...  \n",
       "4      {'search_hashtags': '#climatestrike', 'date': ...  \n",
       "...                                                  ...  \n",
       "61249  {'search_hashtags': '#savetheplanet', 'date': ...  \n",
       "61250  {'search_hashtags': '#savetheplanet', 'date': ...  \n",
       "61251  {'search_hashtags': '#savetheplanet', 'date': ...  \n",
       "61252  {'search_hashtags': '#savetheplanet', 'date': ...  \n",
       "61253  {'search_hashtags': '#savetheplanet', 'date': ...  \n",
       "\n",
       "[61254 rows x 4 columns]"
      ]
     },
     "execution_count": 59,
     "metadata": {},
     "output_type": "execute_result"
    }
   ],
   "source": [
    "df_embeded"
   ]
  },
  {
   "cell_type": "code",
   "execution_count": 60,
   "id": "63bfc7b0",
   "metadata": {},
   "outputs": [],
   "source": [
    "# Guardar en formato pkl\n",
    "file_name = \"climateTwitterEmbedData.pkl\"\n",
    "file_path = os.path.join(src_path, data_path, 'out', file_name)\n",
    "df_embeded.to_pickle(file_path)"
   ]
  },
  {
   "cell_type": "code",
   "execution_count": 12,
   "id": "0d197214",
   "metadata": {},
   "outputs": [
    {
     "name": "stderr",
     "output_type": "stream",
     "text": [
      "Creating parquet from Arrow format: 100%|██████████| 31/31 [00:03<00:00,  8.59ba/s]\n",
      "Creating parquet from Arrow format: 100%|██████████| 31/31 [00:03<00:00,  8.52ba/s]\n",
      "Uploading the dataset shards: 100%|██████████| 2/2 [00:09<00:00,  4.82s/it]\n",
      "c:\\Users\\felip\\Desktop\\2024\\MAESTRIA\\almacnamiento_y_recuperacion_informacion\\trabajo_2\\personal-pinecone-vdb\\.venv\\Lib\\site-packages\\huggingface_hub\\file_download.py:148: UserWarning: `huggingface_hub` cache-system uses symlinks by default to efficiently store duplicated files but your machine does not support them in C:\\Users\\felip\\.cache\\huggingface\\hub\\datasets--AndresR2909--climate_twitter_text_embeddings. Caching files will still work but in a degraded version that might require more space on your disk. This warning can be disabled by setting the `HF_HUB_DISABLE_SYMLINKS_WARNING` environment variable. For more details, see https://huggingface.co/docs/huggingface_hub/how-to-cache#limitations.\n",
      "To support symlinks on Windows, you either need to activate Developer Mode or to run Python as an administrator. In order to see activate developer mode, see this article: https://docs.microsoft.com/en-us/windows/apps/get-started/enable-your-device-for-development\n",
      "  warnings.warn(message)\n"
     ]
    },
    {
     "data": {
      "text/plain": [
       "CommitInfo(commit_url='https://huggingface.co/datasets/AndresR2909/climate_twitter_text_embeddings/commit/6565afafa3c0733e7809c19c598d49974d11cea0', commit_message='Upload dataset', commit_description='', oid='6565afafa3c0733e7809c19c598d49974d11cea0', pr_url=None, pr_revision=None, pr_num=None)"
      ]
     },
     "execution_count": 12,
     "metadata": {},
     "output_type": "execute_result"
    }
   ],
   "source": [
    "# cargar df into  Hugging Face dataset\n",
    "login(token = access_token_hf, add_to_git_credential=False,write_permission= True)\n",
    "\n",
    "dataset = Dataset.from_pandas(df_embeded)\n",
    "dataset.push_to_hub(\"AndresR2909/climate_twitter_text_embeddings\")"
   ]
  },
  {
   "attachments": {
    "image.png": {
     "image/png": "[encoded data removed]"
    }
   },
   "cell_type": "markdown",
   "id": "cf8696f6",
   "metadata": {},
   "source": [
    "![image.png](attachment:image.png)"
   ]
  },
  {
   "cell_type": "markdown",
   "id": "adbd3728",
   "metadata": {},
   "source": [
    "## Prueba de busqueda de documentos localmente, sin base de datos vectorial, sobre el dataframe"
   ]
  },
  {
   "cell_type": "code",
   "execution_count": 62,
   "id": "5c4972bb",
   "metadata": {},
   "outputs": [
    {
     "data": {
      "text/html": [
       "<div>\n",
       "<style scoped>\n",
       "    .dataframe tbody tr th:only-of-type {\n",
       "        vertical-align: middle;\n",
       "    }\n",
       "\n",
       "    .dataframe tbody tr th {\n",
       "        vertical-align: top;\n",
       "    }\n",
       "\n",
       "    .dataframe thead th {\n",
       "        text-align: right;\n",
       "    }\n",
       "</style>\n",
       "<table border=\"1\" class=\"dataframe\">\n",
       "  <thead>\n",
       "    <tr style=\"text-align: right;\">\n",
       "      <th></th>\n",
       "      <th>id</th>\n",
       "      <th>text</th>\n",
       "      <th>embeddings</th>\n",
       "      <th>metadata</th>\n",
       "      <th>similarities</th>\n",
       "    </tr>\n",
       "  </thead>\n",
       "  <tbody>\n",
       "    <tr>\n",
       "      <th>7217</th>\n",
       "      <td>8392</td>\n",
       "      <td>it appears like winter has been cancelled for ...</td>\n",
       "      <td>[-0.026881268247961998, -0.031875453889369965,...</td>\n",
       "      <td>{'search_hashtags': '#globalwarming', 'date': ...</td>\n",
       "      <td>0.848884</td>\n",
       "    </tr>\n",
       "    <tr>\n",
       "      <th>59614</th>\n",
       "      <td>70497</td>\n",
       "      <td>it appears like winter has been cancelled for ...</td>\n",
       "      <td>[-0.027261709794402122, -0.029249263927340508,...</td>\n",
       "      <td>{'search_hashtags': '#globalwarming', 'date': ...</td>\n",
       "      <td>0.831479</td>\n",
       "    </tr>\n",
       "    <tr>\n",
       "      <th>1</th>\n",
       "      <td>1</td>\n",
       "      <td>winter has not stopped this group of dedicated...</td>\n",
       "      <td>[-0.022893592715263367, -0.0438067689538002, -...</td>\n",
       "      <td>{'search_hashtags': '#climatestrike', 'date': ...</td>\n",
       "      <td>0.830322</td>\n",
       "    </tr>\n",
       "    <tr>\n",
       "      <th>37841</th>\n",
       "      <td>44929</td>\n",
       "      <td>winter is not coming #globalwarming . date: 20...</td>\n",
       "      <td>[-0.017101731151342392, -0.023731127381324768,...</td>\n",
       "      <td>{'search_hashtags': '#globalwarming', 'date': ...</td>\n",
       "      <td>0.824444</td>\n",
       "    </tr>\n",
       "    <tr>\n",
       "      <th>1151</th>\n",
       "      <td>1151</td>\n",
       "      <td>@usatodayweather it not normally this warm out...</td>\n",
       "      <td>[-0.0009998481255024672, -0.020653579384088516...</td>\n",
       "      <td>{'search_hashtags': '#climatestrike', 'date': ...</td>\n",
       "      <td>0.823834</td>\n",
       "    </tr>\n",
       "  </tbody>\n",
       "</table>\n",
       "</div>"
      ],
      "text/plain": [
       "          id                                               text  \\\n",
       "7217    8392  it appears like winter has been cancelled for ...   \n",
       "59614  70497  it appears like winter has been cancelled for ...   \n",
       "1          1  winter has not stopped this group of dedicated...   \n",
       "37841  44929  winter is not coming #globalwarming . date: 20...   \n",
       "1151    1151  @usatodayweather it not normally this warm out...   \n",
       "\n",
       "                                              embeddings  \\\n",
       "7217   [-0.026881268247961998, -0.031875453889369965,...   \n",
       "59614  [-0.027261709794402122, -0.029249263927340508,...   \n",
       "1      [-0.022893592715263367, -0.0438067689538002, -...   \n",
       "37841  [-0.017101731151342392, -0.023731127381324768,...   \n",
       "1151   [-0.0009998481255024672, -0.020653579384088516...   \n",
       "\n",
       "                                                metadata  similarities  \n",
       "7217   {'search_hashtags': '#globalwarming', 'date': ...      0.848884  \n",
       "59614  {'search_hashtags': '#globalwarming', 'date': ...      0.831479  \n",
       "1      {'search_hashtags': '#climatestrike', 'date': ...      0.830322  \n",
       "37841  {'search_hashtags': '#globalwarming', 'date': ...      0.824444  \n",
       "1151   {'search_hashtags': '#climatestrike', 'date': ...      0.823834  "
      ]
     },
     "metadata": {},
     "output_type": "display_data"
    }
   ],
   "source": [
    "def similaridad_coseno(a, b):\n",
    "    return np.dot(a, b) / (np.linalg.norm(a) * np.linalg.norm(b))\n",
    "\n",
    "def busqueda_documentos_dataframe(df: pd.DataFrame, user_query:str, top_n:int=4)->pd.DataFrame:\n",
    "    \"\"\"Funcion para buscar textos en dataframe\"\"\"\n",
    "    embedding = generar_embedding(\n",
    "        user_query,\n",
    "        modelo=\"text-embedding-ada-002\" \n",
    "    )\n",
    "    df[\"similarities\"] = df.embeddings.apply(lambda x: similaridad_coseno(x, embedding))\n",
    "\n",
    "    res = (\n",
    "        df.sort_values(\"similarities\", ascending=False)\n",
    "        .head(top_n)\n",
    "    )\n",
    "    display(res)\n",
    "    return res\n",
    "\n",
    "\n",
    "res = busqueda_documentos_dataframe(df_embeded, \"why winter has not stopped in California in 2019-12\", top_n=5)"
   ]
  },
  {
   "cell_type": "markdown",
   "id": "a978c542",
   "metadata": {},
   "source": [
    "## Cargar embeddings a base de datos vectorial pinecone"
   ]
  },
  {
   "cell_type": "markdown",
   "id": "7d0539ad",
   "metadata": {},
   "source": [
    "### Iniciar conexion con base de datos vectorial"
   ]
  },
  {
   "cell_type": "markdown",
   "id": "a39d468d",
   "metadata": {},
   "source": [
    "\n",
    "#### seleccionar tipo de pod: Serverless or Pod-based\n",
    "Decidir que pod usar, ver documentacion: https://docs.pinecone.io/guides/indexes/configure-pod-based-indexes#changing-pod-sizes"
   ]
  },
  {
   "cell_type": "code",
   "execution_count": 63,
   "id": "35a9512b",
   "metadata": {},
   "outputs": [],
   "source": [
    "# initialize connection to pinecone (get API key at app.pc.io)\n",
    "# configure client\n",
    "pc = Pinecone(api_key=api_key)"
   ]
  },
  {
   "cell_type": "code",
   "execution_count": 64,
   "id": "b42596a9",
   "metadata": {},
   "outputs": [],
   "source": [
    "\n",
    "from pinecone import ServerlessSpec, PodSpec\n",
    "import time\n",
    "\n",
    "if use_serverless:\n",
    "    spec = ServerlessSpec(cloud='aws', region='us-west-2')\n",
    "else:\n",
    "    spec = PodSpec(environment=environment,pod_type=\"s1.x1\")"
   ]
  },
  {
   "cell_type": "markdown",
   "id": "176e47a5",
   "metadata": {},
   "source": [
    "### Crear un indice\n",
    "\n",
    "crear un indice en  la vdb pinecone"
   ]
  },
  {
   "cell_type": "code",
   "execution_count": 65,
   "id": "201d1685",
   "metadata": {},
   "outputs": [],
   "source": [
    "index_name = 'climate-twitter-data'\n",
    "\n",
    "if index_name in pc.list_indexes().names():\n",
    "    pc.delete_index(index_name)\n",
    "\n",
    "# we create a new index\n",
    "pc.create_index(\n",
    "        index_name,\n",
    "        dimension=1536,  # dimensionality of text-embedding-ada-002\n",
    "        metric='cosine', #'dotproduct'\n",
    "        spec=spec\n",
    "    )\n",
    "\n",
    "# wait for index to be initialized\n",
    "while not pc.describe_index(index_name).status['ready']:\n",
    "    time.sleep(1)"
   ]
  },
  {
   "cell_type": "code",
   "execution_count": 66,
   "id": "7b581fc7",
   "metadata": {},
   "outputs": [
    {
     "data": {
      "text/plain": [
       "{'indexes': [{'dimension': 1536,\n",
       "              'host': 'climate-twitter-data-s4apt1d.svc.gcp-starter.pinecone.io',\n",
       "              'metric': 'cosine',\n",
       "              'name': 'climate-twitter-data',\n",
       "              'spec': {'pod': {'environment': 'gcp-starter',\n",
       "                               'pod_type': 'starter',\n",
       "                               'pods': 1,\n",
       "                               'replicas': 1,\n",
       "                               'shards': 1}},\n",
       "              'status': {'ready': True, 'state': 'Ready'}}]}"
      ]
     },
     "execution_count": 66,
     "metadata": {},
     "output_type": "execute_result"
    }
   ],
   "source": [
    "# confirmar que fue creado el indice\n",
    "pc.list_indexes()"
   ]
  },
  {
   "cell_type": "markdown",
   "id": "8709f498",
   "metadata": {},
   "source": [
    "### conexion a indice de VDB creado previamente"
   ]
  },
  {
   "cell_type": "code",
   "execution_count": 67,
   "id": "10d33fc0",
   "metadata": {},
   "outputs": [
    {
     "data": {
      "text/plain": [
       "{'dimension': 1536,\n",
       " 'index_fullness': 0.0,\n",
       " 'namespaces': {},\n",
       " 'total_vector_count': 0}"
      ]
     },
     "execution_count": 67,
     "metadata": {},
     "output_type": "execute_result"
    }
   ],
   "source": [
    "index = pc.Index(index_name)\n",
    "index.describe_index_stats()"
   ]
  },
  {
   "cell_type": "code",
   "execution_count": 68,
   "id": "5647d457",
   "metadata": {},
   "outputs": [],
   "source": [
    "#preparar dataframe en formato para cargar en vdb\n",
    "df_embeded.rename(columns={'embeddings':'values'}, inplace=True)\n",
    "\n",
    "df_embeded['id'] = df_embeded['id'].astype(str)"
   ]
  },
  {
   "cell_type": "markdown",
   "id": "fce1f869",
   "metadata": {},
   "source": [
    "### Cargar vectores al indice creado en base de datos vectorial"
   ]
  },
  {
   "cell_type": "code",
   "execution_count": 69,
   "id": "7c597343",
   "metadata": {},
   "outputs": [
    {
     "name": "stderr",
     "output_type": "stream",
     "text": [
      "sending upsert requests: 100%|██████████| 61254/61254 [16:52<00:00, 60.50it/s]\n"
     ]
    },
    {
     "data": {
      "text/plain": [
       "{'upserted_count': 61254}"
      ]
     },
     "execution_count": 69,
     "metadata": {},
     "output_type": "execute_result"
    }
   ],
   "source": [
    "index.upsert_from_dataframe(df_embeded[['id','values','metadata']], batch_size=100)"
   ]
  },
  {
   "cell_type": "code",
   "execution_count": 70,
   "id": "cbe9c902",
   "metadata": {},
   "outputs": [
    {
     "data": {
      "text/plain": [
       "{'dimension': 1536,\n",
       " 'index_fullness': 0.61254,\n",
       " 'namespaces': {'': {'vector_count': 61254}},\n",
       " 'total_vector_count': 61254}"
      ]
     },
     "execution_count": 70,
     "metadata": {},
     "output_type": "execute_result"
    }
   ],
   "source": [
    "index = pc.Index(index_name)\n",
    "index.describe_index_stats()"
   ]
  },
  {
   "attachments": {
    "image.png": {
     "image/png": "[encoded data removed]"
    }
   },
   "cell_type": "markdown",
   "id": "651cbabf",
   "metadata": {},
   "source": [
    "![image.png](attachment:image.png)"
   ]
  }
 ],
 "metadata": {
  "kernelspec": {
   "display_name": ".venv",
   "language": "python",
   "name": "python3"
  },
  "language_info": {
   "codemirror_mode": {
    "name": "ipython",
    "version": 3
   },
   "file_extension": ".py",
   "mimetype": "text/x-python",
   "name": "python",
   "nbconvert_exporter": "python",
   "pygments_lexer": "ipython3",
   "version": "3.11.4"
  }
 },
 "nbformat": 4,
 "nbformat_minor": 5
}
